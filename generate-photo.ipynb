{
 "cells": [
  {
   "cell_type": "code",
   "execution_count": null,
   "metadata": {},
   "outputs": [],
   "source": [
    "# https://www.kaggle.com/oscarsommervold/iceberg-challenge-exploration\n",
    "import numpy as np # linear algebra\n",
    "import pandas as pd # data processing, CSV file I/O (e.g. pd.read_csv)"
   ]
  },
  {
   "cell_type": "code",
   "execution_count": null,
   "metadata": {},
   "outputs": [],
   "source": [
    "data = pd.read_json('./data/train/data/processed/train.json')\n",
    "test = pd.read_json('./data/test/data/processed/test.json')\n",
    "data['band_1'] = data['band_1'].apply(lambda x: np.array(x).reshape(75, 75))\n",
    "data['band_2'] = data['band_2'].apply(lambda x: np.array(x).reshape(75, 75))\n",
    "data['inc_angle'] = pd.to_numeric(data['inc_angle'], errors='coerce')\n",
    "\n",
    "\n",
    "# From the background section: \" you will see data with two channels: HH (transmit/receive horizontally) and HV (transmit horizontally and receive vertically).\"\n",
    "# Composing a third band of horizontal and vertical feedback should then be as simple as band_3 = band_1 + band_2, since our data is in Decibel which is logarithmic.\n",
    "\n",
    "band_1 = np.concatenate([im for im in data['band_1']]).reshape(-1, 75, 75)\n",
    "band_2 = np.concatenate([im for im in data['band_2']]).reshape(-1, 75, 75)\n",
    "band_3 = band_1 + band_2\n",
    "full_img = np.stack([band_1, band_2, band_3], axis=1)\n",
    "def createIm(d):\n",
    "    imgs = []\n",
    "\n",
    "    for i, row in d.iterrows():\n",
    "    #make 75x75 image\n",
    "        b_1 = np.array(row['band_1']).reshape(75, 75)\n",
    "        b_2 = np.array(row['band_2']).reshape(75, 75)\n",
    "        b_3 = b_1 + b_2\n",
    "        \n",
    "        r = (b_1 + abs(b_1.min())) / np.max((b_1 + abs(b_1.min())))\n",
    "        g = (b_2 + abs(b_2.min())) / np.max((b_2 + abs(b_2.min()))) \n",
    "        b = (b_3 + abs(b_3.min())) / np.max((b_3 + abs(b_3.min())))\n",
    "\n",
    "        imgs.append(np.dstack((r, g, b)))\n",
    "    return np.array(imgs)\n",
    "\n",
    "ship = data[data.is_iceberg == 0]\n",
    "iceberg = data[data.is_iceberg == 1]\n",
    "ship_img = createIm(ship)\n",
    "iceberg_img = createIm(iceberg)"
   ]
  },
  {
   "cell_type": "code",
   "execution_count": null,
   "metadata": {},
   "outputs": [],
   "source": [
    "import matplotlib.pyplot as plt\n",
    "if not os.path.exists('./train/ship'):\n",
    "    os.makedirs('train/ship')\n",
    "if not os.path.exists('./train/iceberg'):\n",
    "    os.makedirs('train/iceberg')\n",
    "for i,x in enumerate(ship_img):\n",
    "    plt.imsave('train/ship/ship_%d.png' % i,x)\n",
    "\n",
    "for i,x in enumerate(iceberg_img):\n",
    "    plt.imsave('train/iceberg/iceberg_%d.png' % i,x)"
   ]
  },
  {
   "cell_type": "code",
   "execution_count": null,
   "metadata": {},
   "outputs": [],
   "source": [
    "test_img = createIm(test)\n",
    "test_img.shape\n",
    "os.makedirs('test/')\n",
    "for i,x in enumerate(test_img):\n",
    "    plt.imsave('test/test_%d.png' % i,x)"
   ]
  },
  {
   "cell_type": "code",
   "execution_count": null,
   "metadata": {},
   "outputs": [],
   "source": [
    "import matplotlib.pyplot as plt\n",
    "import torch\n",
    "import numpy as np\n",
    "# plt.style.use('science')\n",
    "\n",
    "def plot_loss(n):\n",
    "    # y = []\n",
    "    enc = np.load('./result/alexnet-epoch30-32-adam-0.0001-pre-True/alexnet-epoch30-32-adam-0.0001-pre-True.npy')\n",
    "    # for i in range(0,n):   \n",
    "    #     tempy = list(enc)\n",
    "    #     y += tempy\n",
    "    x = range(0,n)\n",
    "    y = list(enc)\n",
    "    plt.plot(x, y, '.-')\n",
    "    plt_title = 'BATCH_SIZE = 32; LEARNING_RATE:0.001'\n",
    "    plt.title(plt_title)\n",
    "    plt.xlabel('epoch')\n",
    "    plt.ylabel('LOSS')\n",
    "    # plt.savefig(file_name)\n",
    "    plt.show()\n",
    "\n",
    "plot_loss(30)"
   ]
  },
  {
   "cell_type": "code",
   "execution_count": null,
   "metadata": {},
   "outputs": [],
   "source": [
    "False is True"
   ]
  }
 ],
 "metadata": {
  "interpreter": {
   "hash": "5a89d3b22c830bd35b7ff1a95a95d272a0cd4110a62f60208954f17f8d171fea"
  },
  "kernelspec": {
   "display_name": "Python 3.8.8 64-bit ('py3.8': conda)",
   "name": "python3"
  },
  "language_info": {
   "codemirror_mode": {
    "name": "ipython",
    "version": 3
   },
   "file_extension": ".py",
   "mimetype": "text/x-python",
   "name": "python",
   "nbconvert_exporter": "python",
   "pygments_lexer": "ipython3",
   "version": "3.8.8"
  },
  "orig_nbformat": 4
 },
 "nbformat": 4,
 "nbformat_minor": 2
}
