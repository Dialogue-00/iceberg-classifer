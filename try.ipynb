{
 "cells": [
  {
   "cell_type": "code",
   "execution_count": null,
   "metadata": {},
   "outputs": [],
   "source": [
    "from torchvision import models\n",
    "# model = models.alexnet(pretrained=True)\n",
    "# print(model)\n",
    "model = models.AlexNet( num_classes = 2)\n",
    "print(model)"
   ]
  },
  {
   "cell_type": "code",
   "execution_count": null,
   "metadata": {},
   "outputs": [],
   "source": [
    "import matplotlib.pyplot as plt\n",
    "import torch\n",
    "from torch.nn.functional import softmax, interpolate\n",
    "from torchvision.io.image import read_image\n",
    "from torchvision.models import resnet18\n",
    "from torchvision.transforms.functional import normalize, resize, to_pil_image\n",
    "\n",
    "from torchcam.methods import SmoothGradCAMpp, LayerCAM\n",
    "from torchcam.utils import overlay_mask\n",
    "from torchvision import models\n",
    "import torch.nn as nn\n",
    "from torchvision.transforms import transforms\n",
    "\n",
    "device = torch.device(\"cuda\" if torch.cuda.is_available() else \"cpu\")\n",
    "\n",
    "img_path = './train/ship/ship_0.png'\n",
    "\n",
    "model = models.resnet18(pretrained=False).to(device)\n",
    "cnn_features = model.fc.in_features\n",
    "num_classes = 2\n",
    "model.fc = nn.Linear(model.fc.in_features, num_classes).to(device)\n",
    "model.eval()\n",
    "\n",
    "cam_extractor = SmoothGradCAMpp(model)\n",
    "# Get your input\n",
    "img = read_image(img_path)\n",
    "# Preprocess it for your chosen model\n",
    "input = resize(img, (224, 224)) / 255.\n",
    "\n",
    "out = model(input.unsqueeze(0))\n",
    "cams = cam_extractor(out.squeeze(0).argmax().item(), out)\n",
    "\n",
    "for cam in cams:\n",
    "  print(cam.shape)"
   ]
  },
  {
   "cell_type": "code",
   "execution_count": 4,
   "metadata": {},
   "outputs": [
    {
     "name": "stdout",
     "output_type": "stream",
     "text": [
      "result/str+2312\n",
      "result/str+2312/str+2312.pth\n"
     ]
    }
   ],
   "source": [
    "import os\n",
    "save_path = 'str+2312'\n",
    "if not os.path.exists('result/' + save_path):\n",
    "    os.makedirs('result/' + save_path)\n",
    "\n",
    "root = os.path.join('result/' + save_path)\n",
    "weight_path = os.path.join(root + '/' + save_path + '.pth')\n",
    "print(root)\n",
    "print(weight_path)"
   ]
  },
  {
   "cell_type": "code",
   "execution_count": 4,
   "metadata": {},
   "outputs": [
    {
     "name": "stdout",
     "output_type": "stream",
     "text": [
      "AlexNet(\n",
      "  (features): Sequential(\n",
      "    (0): Conv2d(3, 64, kernel_size=(11, 11), stride=(4, 4), padding=(2, 2))\n",
      "    (1): ReLU(inplace=True)\n",
      "    (2): MaxPool2d(kernel_size=3, stride=2, padding=0, dilation=1, ceil_mode=False)\n",
      "    (3): Conv2d(64, 192, kernel_size=(5, 5), stride=(1, 1), padding=(2, 2))\n",
      "    (4): ReLU(inplace=True)\n",
      "    (5): MaxPool2d(kernel_size=3, stride=2, padding=0, dilation=1, ceil_mode=False)\n",
      "    (6): Conv2d(192, 384, kernel_size=(3, 3), stride=(1, 1), padding=(1, 1))\n",
      "    (7): ReLU(inplace=True)\n",
      "    (8): Conv2d(384, 256, kernel_size=(3, 3), stride=(1, 1), padding=(1, 1))\n",
      "    (9): ReLU(inplace=True)\n",
      "    (10): Conv2d(256, 256, kernel_size=(3, 3), stride=(1, 1), padding=(1, 1))\n",
      "    (11): ReLU(inplace=True)\n",
      "    (12): MaxPool2d(kernel_size=3, stride=2, padding=0, dilation=1, ceil_mode=False)\n",
      "  )\n",
      "  (avgpool): AdaptiveAvgPool2d(output_size=(6, 6))\n",
      "  (classifier): Sequential(\n",
      "    (0): Dropout(p=0.5, inplace=False)\n",
      "    (1): Linear(in_features=9216, out_features=4096, bias=True)\n",
      "    (2): ReLU(inplace=True)\n",
      "    (3): Dropout(p=0.5, inplace=False)\n",
      "    (4): Linear(in_features=4096, out_features=4096, bias=True)\n",
      "    (5): ReLU(inplace=True)\n",
      "    (6): Linear(in_features=4096, out_features=2, bias=True)\n",
      "  )\n",
      ")\n"
     ]
    }
   ],
   "source": [
    "import torch\n",
    "from torchvision import models\n",
    "import torch.nn as nn\n",
    "\n",
    "model = models.alexnet(pretrained=False)\n",
    "num_ftrs = model.classifier[6].in_features\n",
    "model.classifier[6] = nn.Linear(num_ftrs, 2)\n",
    "model_weight_path = './result/alexnet-epoch30-32-adam-0.0001-pre-True/alexnet-epoch30-32-adam-0.0001-pre-True.pth'\n",
    "model.load_state_dict(torch.load(model_weight_path))\n",
    "print(model)"
   ]
  }
 ],
 "metadata": {
  "interpreter": {
   "hash": "5a89d3b22c830bd35b7ff1a95a95d272a0cd4110a62f60208954f17f8d171fea"
  },
  "kernelspec": {
   "display_name": "Python 3.8.8 64-bit ('py3.8': conda)",
   "name": "python3"
  },
  "language_info": {
   "codemirror_mode": {
    "name": "ipython",
    "version": 3
   },
   "file_extension": ".py",
   "mimetype": "text/x-python",
   "name": "python",
   "nbconvert_exporter": "python",
   "pygments_lexer": "ipython3",
   "version": "3.8.8"
  },
  "orig_nbformat": 4
 },
 "nbformat": 4,
 "nbformat_minor": 2
}
